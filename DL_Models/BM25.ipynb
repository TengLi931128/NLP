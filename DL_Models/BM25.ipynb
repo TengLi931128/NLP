{
 "cells": [
  {
   "cell_type": "markdown",
   "metadata": {},
   "source": [
    "### BM25\n",
    "这里使用gensim库实现bm25"
   ]
  },
  {
   "cell_type": "code",
   "execution_count": 2,
   "metadata": {},
   "outputs": [],
   "source": [
    "from gensim import corpora\n",
    "from gensim.summarization.bm25 import BM25"
   ]
  },
  {
   "cell_type": "code",
   "execution_count": 3,
   "metadata": {},
   "outputs": [],
   "source": [
    "# 假设语料库已经被分词并存储在一个列表中，每个文档为一个字符串\n",
    "corpus = [\"this is the first document\",\n",
    "          \"this document is the second document\",\n",
    "          \"and this is the third one\",\n",
    "          \"is this the first document\"]\n",
    "\n",
    "# 将语料库转化为词袋向量\n",
    "texts = [[word for word in document.lower().split()] for document in corpus]\n",
    "dictionary = corpora.Dictionary(texts)\n",
    "corpus_bow = [dictionary.doc2bow(text) for text in texts]"
   ]
  },
  {
   "cell_type": "code",
   "execution_count": 6,
   "metadata": {},
   "outputs": [
    {
     "name": "stdout",
     "output_type": "stream",
     "text": [
      "this is the first document\n"
     ]
    }
   ],
   "source": [
    "bm25 = BM25(corpus_bow)\n",
    "\n",
    "# 搜索与 \"first document\" 相似的文档\n",
    "query = \"first document\".lower().split()\n",
    "scores = bm25.get_scores(query)\n",
    "\n",
    "# 根据分数对文档进行排序\n",
    "document_scores = list(enumerate(scores))\n",
    "sorted_scores = sorted(document_scores, key=lambda x: x[1], reverse=True)\n",
    "\n",
    "# 打印分数最高的文档\n",
    "print(corpus[sorted_scores[0][0]])\n"
   ]
  },
  {
   "cell_type": "code",
   "execution_count": null,
   "metadata": {},
   "outputs": [],
   "source": []
  }
 ],
 "metadata": {
  "kernelspec": {
   "display_name": "conda:base",
   "language": "python",
   "name": "base"
  },
  "language_info": {
   "codemirror_mode": {
    "name": "ipython",
    "version": 3
   },
   "file_extension": ".py",
   "mimetype": "text/x-python",
   "name": "python",
   "nbconvert_exporter": "python",
   "pygments_lexer": "ipython3",
   "version": "3.7.10"
  }
 },
 "nbformat": 4,
 "nbformat_minor": 4
}

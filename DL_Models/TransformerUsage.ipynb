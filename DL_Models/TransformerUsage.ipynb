{
 "cells": [
  {
   "cell_type": "markdown",
   "metadata": {},
   "source": [
    "# Transformers简介\n",
    "## 1. 模型结构\n"
   ]
  },
  {
   "cell_type": "markdown",
   "metadata": {},
   "source": [
    "<img src=\"img/transformer.jpeg\" height=\"400\" width=\"400\" >"
   ]
  },
  {
   "cell_type": "markdown",
   "metadata": {},
   "source": [
    "transformer 本质上依旧是encoder_decoder框架，所以我们可以拆成2部分来了解它。  \n",
    "Encoder: 对inputsequence进行embedding  \n",
    "Decoder: 对上一时刻的output进行embedding"
   ]
  },
  {
   "cell_type": "code",
   "execution_count": 1,
   "metadata": {},
   "outputs": [],
   "source": [
    "import torch\n",
    "import torch.nn as nn\n",
    "import torch.optim as optim\n",
    "import torch.nn.functional as F"
   ]
  },
  {
   "cell_type": "markdown",
   "metadata": {},
   "source": [
    "### 2.模型构造\n",
    "### 2.1 一些基本的组件\n",
    "包括MultiHeadAttention, PositionalEncoding, Feedforward, LayerNorm等。\n",
    "### MultiHeadAttention"
   ]
  },
  {
   "cell_type": "code",
   "execution_count": 2,
   "metadata": {},
   "outputs": [],
   "source": [
    "class MultiHeadAttention(nn.Module):\n",
    "    def __init__(self, hidden_size, num_heads, dropout):\n",
    "        super(MultiHeadAttention, self).__init__()\n",
    "        self.hidden_size = hidden_size\n",
    "        self.num_heads = num_heads\n",
    "        self.head_size = hidden_size // num_heads\n",
    "        self.linear_q = nn.Linear(hidden_size, hidden_size)\n",
    "        self.linear_k = nn.Linear(hidden_size, hidden_size)\n",
    "        self.linear_v = nn.Linear(hidden_size, hidden_size)\n",
    "        self.linear_out = nn.Linear(hidden_size, hidden_size)\n",
    "        self.dropout = nn.Dropout(p=dropout)\n",
    "\n",
    "    def forward(self, query, key, value, mask=None):\n",
    "        batch_size = query.size(0)\n",
    "\n",
    "        # linear projections\n",
    "        Q = self.linear_q(query)\n",
    "        K = self.linear_k(key)\n",
    "        V = self.linear_v(value)\n",
    "\n",
    "        # split into multiple heads\n",
    "        Q = Q.view(batch_size, -1, self.num_heads, self.head_size).transpose(1, 2)  # [batch_size, num_heads, seq_len, head_size]\n",
    "        K = K.view(batch_size, -1, self.num_heads, self.head_size).transpose(1, 2)  # [batch_size, num_heads, seq_len, head_size]\n",
    "        V = V.view(batch_size, -1, self.num_heads, self.head_size).transpose(1, 2)  # [batch_size, num_heads, seq_len, head_size]\n",
    "\n",
    "        # scaled dot-product attention\n",
    "        scores = torch.matmul(Q, K.transpose(-2, -1)) / np.sqrt(self.head_size)  # [batch_size, num_heads, seq_len, seq_len]\n",
    "        if mask is not None:\n",
    "            scores = scores.masked_fill(mask == 0, -1e9)\n",
    "        attention = self.dropout(F.softmax(scores, dim=-1))\n",
    "        context = torch.matmul(attention, V)  # [batch_size, num_heads, seq_len, head_size]\n",
    "        context = context.transpose(1, 2).contiguous().view(batch_size, -1, self.hidden_size)  # [batch_size, seq_len, hidden_size]\n",
    "\n",
    "        # final linear projection\n",
    "        output = self.linear_out(context)\n",
    "        return output, attention\n"
   ]
  },
  {
   "cell_type": "markdown",
   "metadata": {},
   "source": [
    "### PositionalEncoding"
   ]
  },
  {
   "cell_type": "code",
   "execution_count": 3,
   "metadata": {},
   "outputs": [],
   "source": [
    "class PositionalEncoding(nn.Module):\n",
    "    def __init__(self, hidden_size, max_seq_len):\n",
    "        super(PositionalEncoding, self).__init__()\n",
    "        self.hidden_size = hidden_size\n",
    "        self.pe = torch.zeros(max_seq_len, hidden_size)\n",
    "        position = torch.arange(0, max_seq_len, dtype=torch.float).unsqueeze(1)\n",
    "        div_term = torch.exp(torch.arange(0, hidden_size, 2).float() * (-math.log(10000.0) / hidden_size))\n",
    "        self.pe[:, 0::2] = torch.sin(position * div_term)\n",
    "        self.pe[:, 1::2] = torch.cos(position * div_term)\n",
    "        self.pe = self.pe.unsqueeze(0)\n",
    "        self.register_buffer('pe', self.pe)\n",
    "\n",
    "    def forward(self, x):\n",
    "        x = x + self.pe[:, :x.size(1)]\n",
    "        return x\n"
   ]
  },
  {
   "cell_type": "markdown",
   "metadata": {},
   "source": [
    "### PositionwiseFeedForward"
   ]
  },
  {
   "cell_type": "code",
   "execution_count": 4,
   "metadata": {},
   "outputs": [],
   "source": [
    "class PositionwiseFeedForward(nn.Module):\n",
    "    def __init__(self, hidden_size, feedforward_size, dropout):\n",
    "        super(PositionwiseFeedForward, self).__init__()\n",
    "        self.linear1 = nn.Linear(hidden_size, feedforward_size)\n",
    "        self.linear2 = nn.Linear(feedforward_size, hidden_size)\n",
    "        self.dropout = nn.Dropout(p=dropout)\n",
    "\n",
    "    def forward(self, x):\n",
    "        x = F.relu(self.linear1(x))\n",
    "        x = self.dropout(x)\n",
    "        x = self.linear2(x)\n",
    "        return x\n"
   ]
  },
  {
   "cell_type": "markdown",
   "metadata": {},
   "source": [
    "### LayerNorm"
   ]
  },
  {
   "cell_type": "code",
   "execution_count": 5,
   "metadata": {},
   "outputs": [],
   "source": [
    "class LayerNorm(nn.Module):\n",
    "    def __init__(self, hidden_size, eps=1e-6):\n",
    "        super(LayerNorm, self).__init__()\n",
    "        self.gamma = nn.Parameter(torch.ones(hidden_size))\n",
    "        self.beta = nn.Parameter(torch.zeros(hidden_size))\n",
    "        self.eps = eps\n",
    "\n",
    "    def forward(self, x):\n",
    "        mean = x.mean(-1, keepdim=True)\n",
    "        std = x.std(-1, keepdim=True)\n",
    "        norm_x = (x - mean) / (std + self.eps)\n",
    "        return self.gamma * norm_x + self.beta\n"
   ]
  },
  {
   "cell_type": "markdown",
   "metadata": {},
   "source": [
    "### 2.2 定义Encoder和Decoder"
   ]
  },
  {
   "cell_type": "code",
   "execution_count": 6,
   "metadata": {},
   "outputs": [],
   "source": [
    "class EncoderLayer(nn.Module):\n",
    "    def __init__(self, hidden_size, num_heads, feedforward_size, dropout):\n",
    "        super(EncoderLayer, self).__init__()\n",
    "        self.self_attention = MultiHeadAttention(hidden_size, num_heads, dropout)\n",
    "        self.feedforward = PositionwiseFeedForward(hidden_size, feedforward_size, dropout)\n",
    "        self.norm1 = LayerNorm(hidden_size)\n",
    "        self.norm2 = LayerNorm(hidden_size)\n",
    "        self.dropout = nn.Dropout(p=dropout)\n",
    "\n",
    "    def forward(self, x, mask):\n",
    "        # multi-head attention\n",
    "        attention, _ = self.self_attention(x, x, x, mask=mask)\n",
    "        x = x + self.dropout(attention)\n",
    "        x = self.norm1(x)\n",
    "\n",
    "        # position-wise feed forward\n",
    "        feedforward = self.feedforward(x)\n",
    "        x = x + self.dropout(feedforward)\n",
    "        x = self.norm2(x)\n",
    "\n",
    "        return x\n",
    "\n",
    "\n",
    "class DecoderLayer(nn.Module):\n",
    "    def __init__(self, hidden_size, num_heads, feedforward_size, dropout):\n",
    "        super(DecoderLayer, self).__init__()\n",
    "        self.self_attention = MultiHeadAttention(hidden_size, num_heads, dropout)\n",
    "        self.encoder_attention = MultiHeadAttention(hidden_size, num_heads, dropout)\n",
    "        self.feedforward = PositionwiseFeedForward(hidden_size, feedforward_size, dropout)\n",
    "        self.norm1 = LayerNorm(hidden_size)\n",
    "        self.norm2 = LayerNorm(hidden_size)\n",
    "        self.norm3 = LayerNorm(hidden_size)\n",
    "        self.dropout = nn.Dropout(p=dropout)\n",
    "\n",
    "    def forward(self, x, encoder_output, src_mask, tgt_mask):\n",
    "        # masked self-attention\n",
    "        attention, _ = self.self_attention(x, x, x, mask=tgt_mask)\n",
    "        x = x + self.dropout(attention)\n",
    "        x = self.norm1(x)\n",
    "\n",
    "        # encoder attention\n",
    "        attention, _ = self.encoder_attention(x, encoder_output, encoder_output, mask=src_mask)\n",
    "        x = x + self.dropout(attention)\n",
    "        x = self.norm2(x)\n",
    "\n",
    "        # position-wise feed forward\n",
    "        feedforward = self.feedforward(x)\n",
    "        x = x + self.dropout(feedforward)\n",
    "        x = self.norm3(x)\n",
    "\n",
    "        return x\n",
    "\n",
    "\n",
    "class Encoder(nn.Module):\n",
    "    def __init__(self, hidden_size, num_layers, num_heads, feedforward_size, dropout, max_seq_len):\n",
    "        super(Encoder, self).__init__()\n",
    "        self.layers = nn.ModuleList([EncoderLayer(hidden_size, num_heads, feedforward_size, dropout) for _ in range(num_layers)])\n",
    "        self.pe = PositionalEncoding(hidden_size, dropout, max_seq_len)\n",
    "\n",
    "    def forward(self, x, mask):\n",
    "        x = self.pe(x)\n",
    "\n",
    "        for layer in self.layers:\n",
    "            x = layer(x, mask)\n",
    "\n",
    "        return x\n",
    "\n",
    "\n",
    "class Decoder(nn.Module):\n",
    "    def __init__(self, hidden_size, num_layers, num_heads, feedforward_size, dropout, max_seq_len):\n",
    "        super(Decoder, self).__init__()\n",
    "        self.layers = nn.ModuleList([DecoderLayer(hidden_size, num_heads, feedforward_size, dropout) for _ in range(num_layers)])\n",
    "        self.pe = PositionalEncoding(hidden_size, dropout, max_seq_len)\n",
    "\n",
    "    def forward(self, x, encoder_output, src_mask, tgt_mask):\n",
    "        x = self.pe(x)\n",
    "\n",
    "        for layer in self.layers:\n",
    "            x = layer(x, encoder_output, src_mask, tgt_mask)\n",
    "\n",
    "        return x\n"
   ]
  },
  {
   "cell_type": "markdown",
   "metadata": {},
   "source": [
    "### 2.3 定义Transformer模型"
   ]
  },
  {
   "cell_type": "code",
   "execution_count": 7,
   "metadata": {},
   "outputs": [],
   "source": [
    "class Transformer(nn.Module):\n",
    "    def __init__(self, src_vocab_size, tgt_vocab_size, hidden_size, num_layers, num_heads, feedforward_size, dropout, max_src_len, max_tgt_len):\n",
    "        super(Transformer, self).__init__()\n",
    "        self.embedding_src = nn.Embedding(src_vocab_size, hidden_size)\n",
    "        self.embedding_tgt = nn.Embedding(tgt_vocab_size, hidden_size)\n",
    "        self.encoder = Encoder(hidden_size, num_layers, num_heads, feedforward_size, dropout, max_src_len)\n",
    "        self.decoder = Decoder(hidden_size, num_layers, num_heads, feedforward_size, dropout, max_tgt_len)\n",
    "        self.output_layer = nn.Linear(hidden_size, tgt_vocab_size)\n",
    "\n",
    "    def forward(self, src_input, tgt_input, src_mask, tgt_mask):\n",
    "        src_embedded = self.embedding_src(src_input)\n",
    "        tgt_embedded = self.embedding_tgt(tgt_input)\n",
    "\n",
    "        encoder_output = self.encoder(src_embedded, src_mask)\n",
    "        decoder_output = self.decoder(tgt_embedded, encoder_output, src_mask, tgt_mask)\n",
    "\n",
    "        output = self.output_layer(decoder_output)\n",
    "        return output"
   ]
  },
  {
   "cell_type": "code",
   "execution_count": null,
   "metadata": {},
   "outputs": [],
   "source": []
  }
 ],
 "metadata": {
  "kernelspec": {
   "display_name": "conda:base",
   "language": "python",
   "name": "base"
  },
  "language_info": {
   "codemirror_mode": {
    "name": "ipython",
    "version": 3
   },
   "file_extension": ".py",
   "mimetype": "text/x-python",
   "name": "python",
   "nbconvert_exporter": "python",
   "pygments_lexer": "ipython3",
   "version": "3.7.10"
  }
 },
 "nbformat": 4,
 "nbformat_minor": 4
}

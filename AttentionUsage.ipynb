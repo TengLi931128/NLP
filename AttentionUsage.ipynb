{
 "cells": [
  {
   "cell_type": "markdown",
   "metadata": {},
   "source": [
    "# Attention核心思想\n",
    "这里尝试使用简单的单头self_attention来解释attention的思想。"
   ]
  },
  {
   "cell_type": "code",
   "execution_count": 57,
   "metadata": {},
   "outputs": [],
   "source": [
    "import torch\n",
    "import torch.nn as nn\n",
    "import torch.nn.functional as f"
   ]
  },
  {
   "cell_type": "markdown",
   "metadata": {},
   "source": [
    "attention的核心思想，简单的说就是，先用q和k对比，求一个相似性，然后根据这个相似性，按照比例提取v，组成新的embedding。"
   ]
  },
  {
   "cell_type": "code",
   "execution_count": 62,
   "metadata": {},
   "outputs": [],
   "source": [
    "class SelfAttention(nn.Module):\n",
    "    def __init__(self, vec_size):\n",
    "        super().__init__()\n",
    "        # （Q，K，V）3个w矩阵\n",
    "        self.QueryW = nn.Linear(vec_size, vec_size)\n",
    "        self.KeyW = nn.Linear(vec_size, vec_size)\n",
    "        self.ValueW = nn.Linear(vec_size, vec_size)\n",
    "        self.Score2Prob = nn.Softmax(dim=-1)\n",
    "            \n",
    "    def forward(self, sents):\n",
    "        '''\n",
    "        sents: [batch_size, seq_len, vec_size]\n",
    "        '''\n",
    "        print('sents', sents.shape)\n",
    "        # 先计算q，k，v向量\n",
    "        Q = self.QueryW(sents)  #[batch_size, seq_len, vec_size]\n",
    "        K = self.KeyW(sents)    #[batch_size, seq_len, vec_size]\n",
    "        V = self.ValueW(sents)  #[batch_size, seq_len, vec_size]\n",
    "        # 再计算q和k的相似值，并转成概率分布\n",
    "        Scores = torch.matmul(Q, K.transpose(1,2).contiguous())  #[batch_size, seq_len, seq_len]\n",
    "        print(Scores.shape)\n",
    "        print(Scores)\n",
    "        Scores = self.Score2Prob(Scores)  #[batch_size, seq_len, seq_len]\n",
    "        print(Scores)\n",
    "        print(Scores.shape)\n",
    "        # 再输出新的embedding，即：相似值*V\n",
    "        Out = torch.matmul(Scores,V)  #[batch_size, seq_len, vec_size]\n",
    "        print('Out', Out.shape)\n",
    "        return Out"
   ]
  },
  {
   "cell_type": "code",
   "execution_count": 60,
   "metadata": {},
   "outputs": [
    {
     "name": "stdout",
     "output_type": "stream",
     "text": [
      "tensor([[[0.1696, 0.0125, 0.1379, 0.3478, 0.3790, 0.2276, 0.4528, 0.2270,\n",
      "          0.4609, 0.4082],\n",
      "         [0.0771, 0.2745, 0.1747, 0.4133, 0.1001, 0.1052, 0.4344, 0.0607,\n",
      "          0.4888, 0.5148],\n",
      "         [0.3007, 0.0279, 0.0811, 0.3120, 0.4506, 0.3386, 0.4638, 0.2450,\n",
      "          0.0686, 0.4554],\n",
      "         [0.4082, 0.3927, 0.4035, 0.1330, 0.3023, 0.3567, 0.0814, 0.0258,\n",
      "          0.1728, 0.4929]],\n",
      "\n",
      "        [[0.3552, 0.3260, 0.0076, 0.2821, 0.1292, 0.4619, 0.3386, 0.4913,\n",
      "          0.2997, 0.1095],\n",
      "         [0.4076, 0.1469, 0.2115, 0.5363, 0.1666, 0.5930, 0.0947, 0.2785,\n",
      "          0.0444, 0.1096],\n",
      "         [0.0576, 0.4700, 0.0063, 0.1463, 0.3560, 0.2613, 0.4805, 0.0120,\n",
      "          0.3639, 0.4427],\n",
      "         [0.4564, 0.5436, 0.0129, 0.1896, 0.2353, 0.3753, 0.2794, 0.4229,\n",
      "          0.0830, 0.0102]]])\n"
     ]
    }
   ],
   "source": [
    "# 先假设一些参数\n",
    "vec_size = 10\n",
    "batch_size = 2\n",
    "seq_len = 4\n",
    "# 初始化一些数据\n",
    "sents = torch.rand(batch_size,seq_len,vec_size)\n",
    "# 这里我们都使用单位向量，这样结果比较明显\n",
    "sents = f.normalize(sents, p=2, dim=2)\n",
    "print(sents)"
   ]
  },
  {
   "cell_type": "code",
   "execution_count": 63,
   "metadata": {},
   "outputs": [
    {
     "name": "stdout",
     "output_type": "stream",
     "text": [
      "SelfAttention(\n",
      "  (QueryW): Linear(in_features=10, out_features=10, bias=True)\n",
      "  (KeyW): Linear(in_features=10, out_features=10, bias=True)\n",
      "  (ValueW): Linear(in_features=10, out_features=10, bias=True)\n",
      "  (Score2Prob): Softmax(dim=-1)\n",
      ")\n",
      "sents torch.Size([2, 4, 10])\n",
      "torch.Size([2, 4, 4])\n",
      "tensor([[[1.0000, 0.8921, 0.9020, 0.6954],\n",
      "         [0.8921, 1.0000, 0.7390, 0.7076],\n",
      "         [0.9020, 0.7390, 1.0000, 0.7453],\n",
      "         [0.6954, 0.7076, 0.7453, 1.0000]],\n",
      "\n",
      "        [[1.0000, 0.8352, 0.7078, 0.9250],\n",
      "         [0.8352, 1.0000, 0.5001, 0.7811],\n",
      "         [0.7078, 0.5001, 1.0000, 0.6655],\n",
      "         [0.9250, 0.7811, 0.6655, 1.0000]]])\n",
      "tensor([[[0.2823, 0.2535, 0.2560, 0.2082],\n",
      "         [0.2629, 0.2929, 0.2256, 0.2186],\n",
      "         [0.2626, 0.2231, 0.2897, 0.2245],\n",
      "         [0.2263, 0.2290, 0.2378, 0.3068]],\n",
      "\n",
      "        [[0.2839, 0.2408, 0.2120, 0.2634],\n",
      "         [0.2603, 0.3069, 0.1862, 0.2466],\n",
      "         [0.2433, 0.1977, 0.3259, 0.2332],\n",
      "         [0.2692, 0.2331, 0.2076, 0.2901]]])\n",
      "torch.Size([2, 4, 4])\n",
      "Out torch.Size([2, 4, 10])\n"
     ]
    }
   ],
   "source": [
    "model = SelfAttention(vec_size=vec_size)\n",
    "print(model)\n",
    "model(sents)"
   ]
  },
  {
   "cell_type": "code",
   "execution_count": null,
   "metadata": {},
   "outputs": [],
   "source": []
  },
  {
   "cell_type": "code",
   "execution_count": 66,
   "metadata": {},
   "outputs": [],
   "source": []
  },
  {
   "cell_type": "code",
   "execution_count": null,
   "metadata": {},
   "outputs": [],
   "source": []
  },
  {
   "cell_type": "code",
   "execution_count": null,
   "metadata": {},
   "outputs": [],
   "source": []
  },
  {
   "cell_type": "code",
   "execution_count": null,
   "metadata": {},
   "outputs": [],
   "source": []
  }
 ],
 "metadata": {
  "kernelspec": {
   "display_name": "conda:base",
   "language": "python",
   "name": "base"
  },
  "language_info": {
   "codemirror_mode": {
    "name": "ipython",
    "version": 3
   },
   "file_extension": ".py",
   "mimetype": "text/x-python",
   "name": "python",
   "nbconvert_exporter": "python",
   "pygments_lexer": "ipython3",
   "version": "3.7.10"
  }
 },
 "nbformat": 4,
 "nbformat_minor": 4
}

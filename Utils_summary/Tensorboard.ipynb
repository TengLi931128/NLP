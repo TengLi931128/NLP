{
 "cells": [
  {
   "cell_type": "markdown",
   "metadata": {},
   "source": [
    "# tensorboard使用"
   ]
  },
  {
   "cell_type": "code",
   "execution_count": 32,
   "metadata": {},
   "outputs": [],
   "source": [
    "from torch.utils.tensorboard import SummaryWriter\n",
    "import torch\n",
    "import torch.nn as nn"
   ]
  },
  {
   "cell_type": "code",
   "execution_count": 3,
   "metadata": {},
   "outputs": [],
   "source": [
    "writer = SummaryWriter(\"training_log\")"
   ]
  },
  {
   "cell_type": "markdown",
   "metadata": {},
   "source": [
    "## 1. 使用 add_scalar 画单条曲线：\n",
    "图的名字：'y=x平方曲线'  \n",
    "y坐标的值：i平方  \n",
    "x坐标的值：i"
   ]
  },
  {
   "cell_type": "code",
   "execution_count": 4,
   "metadata": {},
   "outputs": [],
   "source": [
    "for i in range(10):\n",
    "    writer.add_scalar('y=x*x曲线', i*i, i)\n",
    "writer.close()"
   ]
  },
  {
   "cell_type": "markdown",
   "metadata": {},
   "source": [
    "然后执行命令，就可以得到网址。"
   ]
  },
  {
   "cell_type": "code",
   "execution_count": 7,
   "metadata": {},
   "outputs": [
    {
     "name": "stdout",
     "output_type": "stream",
     "text": [
      "TensorFlow installation not found - running with reduced feature set.\n",
      "\n",
      "NOTE: Using experimental fast data loading logic. To disable, pass\n",
      "    \"--load_fast=false\" and report issues on GitHub. More details:\n",
      "    https://github.com/tensorflow/tensorboard/issues/4784\n",
      "\n",
      "Serving TensorBoard on localhost; to expose to the network, use a proxy or pass --bind_all\n",
      "TensorBoard 2.11.2 at http://localhost:6007/ (Press CTRL+C to quit)\n",
      "^C\n"
     ]
    }
   ],
   "source": [
    "!tensorboard --logdir \"training_log\""
   ]
  },
  {
   "cell_type": "markdown",
   "metadata": {},
   "source": [
    "进入网址，就可以看到图片"
   ]
  },
  {
   "cell_type": "markdown",
   "metadata": {},
   "source": [
    "<img src=\"../img/y=x*x.png\" height=\"400\" width=\"400\" >"
   ]
  },
  {
   "cell_type": "markdown",
   "metadata": {},
   "source": [
    "## 2. 使用 add_scalars 画多条曲线：\n",
    "图的名字：'y=x 和 y=2x 曲线'  \n",
    "y坐标的值：一个字典，对应的是函数的名字，和对应的y坐标值  \n",
    "x坐标的值：i"
   ]
  },
  {
   "cell_type": "code",
   "execution_count": 9,
   "metadata": {},
   "outputs": [],
   "source": [
    "for i in range(10):\n",
    "    writer.add_scalars('y=x 和 y=2x 曲线', {'y=x': i,\n",
    "                                            'y=2x': i * 2}, i)\n",
    "writer.close()"
   ]
  },
  {
   "cell_type": "markdown",
   "metadata": {},
   "source": [
    "<img src=\"../img/y=x&2x.png\" height=\"400\" width=\"400\" >"
   ]
  },
  {
   "cell_type": "markdown",
   "metadata": {},
   "source": [
    "## 3. 使用 add_graph 构建神经网络结构图：\n"
   ]
  },
  {
   "cell_type": "code",
   "execution_count": 29,
   "metadata": {},
   "outputs": [
    {
     "name": "stdout",
     "output_type": "stream",
     "text": [
      "sents torch.Size([2, 4, 10])\n",
      "tensor([[[ 5.3242e-01, -5.3643e-01, -7.0177e-01, -1.9673e-04,  3.1245e-01,\n",
      "          -3.4367e-02, -6.1487e-04,  2.1513e-01,  4.6962e-01, -2.0229e-01],\n",
      "         [ 5.4271e-01, -5.3967e-01, -6.9248e-01, -4.3896e-03,  3.0232e-01,\n",
      "          -3.4397e-02, -2.3759e-03,  2.1602e-01,  4.5965e-01, -2.0195e-01],\n",
      "         [ 5.3228e-01, -5.3598e-01, -7.0126e-01,  3.3415e-04,  3.1221e-01,\n",
      "          -3.3858e-02, -8.2075e-04,  2.1505e-01,  4.6933e-01, -2.0229e-01],\n",
      "         [ 5.4425e-01, -5.5180e-01, -7.0998e-01, -1.3178e-02,  3.1660e-01,\n",
      "          -4.3668e-02,  8.6894e-03,  2.3284e-01,  4.7298e-01, -1.9724e-01]],\n",
      "\n",
      "        [[ 4.7209e-01, -4.8592e-01, -6.4677e-01,  1.6429e-01,  3.4273e-01,\n",
      "          -1.2623e-01,  8.2173e-02,  2.2033e-01,  4.6478e-01, -2.1034e-01],\n",
      "         [ 4.8148e-01, -4.6062e-01, -6.6268e-01,  2.0381e-01,  3.4542e-01,\n",
      "          -1.3933e-01,  6.3409e-02,  1.8455e-01,  4.5378e-01, -2.1590e-01],\n",
      "         [ 4.7790e-01, -4.6042e-01, -6.6239e-01,  2.0162e-01,  3.4647e-01,\n",
      "          -1.3760e-01,  6.4767e-02,  1.8741e-01,  4.5502e-01, -2.1459e-01],\n",
      "         [ 4.6631e-01, -4.7911e-01, -6.5263e-01,  1.6703e-01,  3.4480e-01,\n",
      "          -1.2873e-01,  8.0160e-02,  2.1825e-01,  4.6293e-01, -2.0680e-01]]],\n",
      "       grad_fn=<UnsafeViewBackward0>)\n"
     ]
    }
   ],
   "source": [
    "class SelfAttention(nn.Module):\n",
    "    def __init__(self, vec_size):\n",
    "        super().__init__()\n",
    "        # （Q，K，V）3个w矩阵\n",
    "        self.QueryW = nn.Linear(vec_size, vec_size)\n",
    "        self.KeyW = nn.Linear(vec_size, vec_size)\n",
    "        self.ValueW = nn.Linear(vec_size, vec_size)\n",
    "        self.Score2Prob = nn.Softmax(dim=-1)\n",
    "            \n",
    "    def forward(self, sents):\n",
    "        '''\n",
    "        sents: [batch_size, seq_len, vec_size]\n",
    "        '''\n",
    "        print('sents', sents.shape)\n",
    "        # 先计算q，k，v向量\n",
    "        Q = self.QueryW(sents)  #[batch_size, seq_len, vec_size]\n",
    "        K = self.KeyW(sents)    #[batch_size, seq_len, vec_size]\n",
    "        V = self.ValueW(sents)  #[batch_size, seq_len, vec_size]\n",
    "        # 再计算q和k的相似值，并转成概率分布\n",
    "        Scores = torch.matmul(Q, K.transpose(1,2).contiguous())  #[batch_size, seq_len, seq_len]\n",
    "        Scores = self.Score2Prob(Scores)  #[batch_size, seq_len, seq_len]\n",
    "        # 再输出新的embedding，即：相似值*V\n",
    "        Out = torch.matmul(Scores,V)  #[batch_size, seq_len, vec_size]\n",
    "        return Out  \n",
    "# 实例模型\n",
    "Model = SelfAttention(vec_size=10)\n",
    "# 虚构输入\n",
    "input_sents = torch.rand(2,4,10)\n",
    "# 输入模型中\n",
    "Out = Model(input_sents)\n",
    "print(Out)"
   ]
  },
  {
   "cell_type": "code",
   "execution_count": 31,
   "metadata": {},
   "outputs": [
    {
     "name": "stdout",
     "output_type": "stream",
     "text": [
      "sents torch.Size([2, 4, 10])\n",
      "sents torch.Size([2, 4, 10])\n"
     ]
    },
    {
     "name": "stderr",
     "output_type": "stream",
     "text": [
      "/opt/conda/lib/python3.7/site-packages/ipykernel_launcher.py:14: TracerWarning: Converting a tensor to a Python integer might cause the trace to be incorrect. We can't record the data flow of Python values, so this value will be treated as a constant in the future. This means that the trace might not generalize to other inputs!\n",
      "  \n"
     ]
    },
    {
     "name": "stdout",
     "output_type": "stream",
     "text": [
      "sents torch.Size([2, 4, 10])\n"
     ]
    }
   ],
   "source": [
    "# 画图\n",
    "writer.add_graph(Model, input_sents)\n",
    "writer.close()"
   ]
  },
  {
   "cell_type": "markdown",
   "metadata": {},
   "source": [
    "<img src=\"../img/model_structure.png\" height=\"400\" width=\"400\" >"
   ]
  },
  {
   "cell_type": "code",
   "execution_count": null,
   "metadata": {},
   "outputs": [],
   "source": []
  }
 ],
 "metadata": {
  "kernelspec": {
   "display_name": "conda:base",
   "language": "python",
   "name": "base"
  },
  "language_info": {
   "codemirror_mode": {
    "name": "ipython",
    "version": 3
   },
   "file_extension": ".py",
   "mimetype": "text/x-python",
   "name": "python",
   "nbconvert_exporter": "python",
   "pygments_lexer": "ipython3",
   "version": "3.7.10"
  }
 },
 "nbformat": 4,
 "nbformat_minor": 4
}

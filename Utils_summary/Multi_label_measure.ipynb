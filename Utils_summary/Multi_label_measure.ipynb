{
 "cells": [
  {
   "cell_type": "markdown",
   "metadata": {},
   "source": [
    "# metrics.classification_report函数介绍"
   ]
  },
  {
   "cell_type": "code",
   "execution_count": 3,
   "metadata": {},
   "outputs": [],
   "source": [
    "from sklearn.metrics import classification_report\n",
    "import numpy as np"
   ]
  },
  {
   "cell_type": "code",
   "execution_count": 5,
   "metadata": {},
   "outputs": [
    {
     "name": "stdout",
     "output_type": "stream",
     "text": [
      "              precision    recall  f1-score   support\n",
      "\n",
      "           0       0.50      1.00      0.67         1\n",
      "           1       0.00      0.00      0.00         2\n",
      "           2       0.50      1.00      0.67         1\n",
      "\n",
      "   micro avg       0.40      0.50      0.44         4\n",
      "   macro avg       0.33      0.67      0.44         4\n",
      "weighted avg       0.25      0.50      0.33         4\n",
      " samples avg       0.33      0.50      0.39         4\n",
      "\n"
     ]
    }
   ],
   "source": [
    "y_true = np.array([[0,0,1], [1,1,0],[0,1,0]])\n",
    "y_pred = np.array([[0,1,1], [1,0,1],[1,0,0]])\n",
    "res = classification_report(y_true, y_pred)\n",
    "print(res)"
   ]
  },
  {
   "cell_type": "markdown",
   "metadata": {},
   "source": [
    "## 几个常见的模型指标介绍\n",
    "以下都以label0来举例子。\n",
    "1. precision: 预测1里有几个是真1   $$1/2 = 0.5$$\n",
    "2. recall: 真1里有几个被预测为1  $$1/1 = 1.0$$\n",
    "3. F1_score: 兼顾准确和召回，  \n",
    "$$f1 = 2*\\frac{precision*recall}{precision+recall}$$  \n",
    "$$2*0.5*1/（0.5+1） = 0.67$$\n",
    "4. micro avg: 微平均，表示所有类别中预测正确量与总样本量的比值  $$2/5 = 0.4$$\n",
    "5. macro avg: 宏平均，表示所有类别对应指标的平均值  $$(0.5+0.0+0.5)/3 = 0.33$$\n",
    "6. weighted avg: 带权重平均，表示类别样本占总样本的比重与对应指标的乘积的累加  $$(1*0.5+2*0+1*0.5)/4 = 0.25$$\n",
    "7. samples avg: 样本平均  $$$$"
   ]
  },
  {
   "cell_type": "code",
   "execution_count": null,
   "metadata": {},
   "outputs": [],
   "source": []
  }
 ],
 "metadata": {
  "kernelspec": {
   "display_name": "conda:base",
   "language": "python",
   "name": "base"
  },
  "language_info": {
   "codemirror_mode": {
    "name": "ipython",
    "version": 3
   },
   "file_extension": ".py",
   "mimetype": "text/x-python",
   "name": "python",
   "nbconvert_exporter": "python",
   "pygments_lexer": "ipython3",
   "version": "3.7.10"
  }
 },
 "nbformat": 4,
 "nbformat_minor": 4
}

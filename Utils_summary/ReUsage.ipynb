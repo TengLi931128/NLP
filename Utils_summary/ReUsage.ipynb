{
 "cells": [
  {
   "cell_type": "markdown",
   "metadata": {},
   "source": [
    "# 正则匹配re经常使用的方式"
   ]
  },
  {
   "cell_type": "code",
   "execution_count": 1,
   "metadata": {},
   "outputs": [],
   "source": [
    "import re"
   ]
  },
  {
   "cell_type": "markdown",
   "metadata": {},
   "source": [
    "## 1. 替换特定词语\n",
    "例如我们想替换句子中的‘杭州’‘香港’为‘城市’"
   ]
  },
  {
   "cell_type": "code",
   "execution_count": 3,
   "metadata": {},
   "outputs": [
    {
     "name": "stdout",
     "output_type": "stream",
     "text": [
      "我从[城市名]飞往[城市名]\n"
     ]
    }
   ],
   "source": [
    "query = '我从杭州飞往香港'\n",
    "# 定义pattern\n",
    "pattern= \"(杭州)|(香港)\"\n",
    "city_compile = re.compile(pattern)\n",
    "query = re.sub(city_compile, '[城市名]', query)\n",
    "print(query)"
   ]
  },
  {
   "cell_type": "code",
   "execution_count": 6,
   "metadata": {},
   "outputs": [
    {
     "name": "stdout",
     "output_type": "stream",
     "text": [
      "带你去浪漫的[地名]，再去[地名]和[地名]\n"
     ]
    }
   ],
   "source": [
    "# 当然，我们也可以替换一个list的内容\n",
    "query = '带你去浪漫的土耳其，再去东京和巴黎'\n",
    "cities = ['土耳其', '东京', '巴黎']\n",
    "pattern = \"(\" + ')|('.join(cities) + \")\"\n",
    "city_compile = re.compile(pattern)\n",
    "query = re.sub(city_compile, '[地名]', query)\n",
    "print(query)"
   ]
  },
  {
   "cell_type": "markdown",
   "metadata": {},
   "source": [
    "## 2.正则表达式要求匹配\n",
    "例如，我们可以使用匹配，替换电话号码"
   ]
  },
  {
   "cell_type": "code",
   "execution_count": 7,
   "metadata": {},
   "outputs": [
    {
     "name": "stdout",
     "output_type": "stream",
     "text": [
      "我的电话是[-手机号-]\n"
     ]
    }
   ],
   "source": [
    "query = '我的电话是13968686868'\n",
    "# 定义\n",
    "phone_pattern = \"(?:13[0-9]|14[01456879]|15[0-35-9]|16[2567]|17[0-8]|18[0-9]|19[0-35-9])\\d{8}\"\n",
    "phone_compile = re.compile(phone_pattern)\n",
    "query = re.sub(phone_compile, \"[-手机号-]\", query)\n",
    "print(query)"
   ]
  },
  {
   "cell_type": "code",
   "execution_count": null,
   "metadata": {},
   "outputs": [],
   "source": []
  }
 ],
 "metadata": {
  "kernelspec": {
   "display_name": "conda:base",
   "language": "python",
   "name": "base"
  },
  "language_info": {
   "codemirror_mode": {
    "name": "ipython",
    "version": 3
   },
   "file_extension": ".py",
   "mimetype": "text/x-python",
   "name": "python",
   "nbconvert_exporter": "python",
   "pygments_lexer": "ipython3",
   "version": "3.7.10"
  }
 },
 "nbformat": 4,
 "nbformat_minor": 4
}

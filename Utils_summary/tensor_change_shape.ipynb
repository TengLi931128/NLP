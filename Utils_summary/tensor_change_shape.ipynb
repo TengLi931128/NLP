{
 "cells": [
  {
   "cell_type": "markdown",
   "metadata": {},
   "source": [
    "# pytorch中tensor的形状改变\n",
    "## 数据处理或者nn模型传播中，经常需要修改模型shape，这里总结下："
   ]
  },
  {
   "cell_type": "code",
   "execution_count": 15,
   "metadata": {},
   "outputs": [
    {
     "name": "stdout",
     "output_type": "stream",
     "text": [
      "tensor([[[1, 1, 1, 1],\n",
      "         [2, 2, 2, 2],\n",
      "         [3, 3, 3, 3]],\n",
      "\n",
      "        [[4, 4, 4, 4],\n",
      "         [5, 5, 5, 5],\n",
      "         [6, 6, 6, 6]]])\n",
      "torch.Size([2, 3, 4])\n"
     ]
    }
   ],
   "source": [
    "import torch\n",
    "M = torch.tensor([[[1,1,1,1],\n",
    "                   [2,2,2,2],\n",
    "                   [3,3,3,3]],\n",
    "                  [[4,4,4,4],\n",
    "                   [5,5,5,5],\n",
    "                   [6,6,6,6]]])\n",
    "print(M)\n",
    "print(M.shape)"
   ]
  },
  {
   "cell_type": "markdown",
   "metadata": {},
   "source": [
    "### 1. transpose()  （tensor转置）\n",
    "将两个纬度调换，一次只能操作两个维度。"
   ]
  },
  {
   "cell_type": "code",
   "execution_count": 16,
   "metadata": {},
   "outputs": [
    {
     "name": "stdout",
     "output_type": "stream",
     "text": [
      "tensor([[[1, 4],\n",
      "         [2, 5],\n",
      "         [3, 6]],\n",
      "\n",
      "        [[1, 4],\n",
      "         [2, 5],\n",
      "         [3, 6]],\n",
      "\n",
      "        [[1, 4],\n",
      "         [2, 5],\n",
      "         [3, 6]],\n",
      "\n",
      "        [[1, 4],\n",
      "         [2, 5],\n",
      "         [3, 6]]])\n",
      "torch.Size([4, 3, 2])\n",
      "tensor([[[1, 2, 3],\n",
      "         [1, 2, 3],\n",
      "         [1, 2, 3],\n",
      "         [1, 2, 3]],\n",
      "\n",
      "        [[4, 5, 6],\n",
      "         [4, 5, 6],\n",
      "         [4, 5, 6],\n",
      "         [4, 5, 6]]])\n",
      "torch.Size([2, 4, 3])\n"
     ]
    }
   ],
   "source": [
    "M1 = M.transpose(0,2)  # 将第0和第2维调换\n",
    "print(M1)\n",
    "print(M1.shape)\n",
    "M2 = M.transpose(1,2)  # 将1，2维调换\n",
    "print(M2)\n",
    "print(M2.shape)"
   ]
  },
  {
   "cell_type": "markdown",
   "metadata": {},
   "source": [
    "### 2. permute()  （多维度调换）\n",
    "能一次性调换多个维度，但是必须传入所有维度。"
   ]
  },
  {
   "cell_type": "code",
   "execution_count": 22,
   "metadata": {},
   "outputs": [
    {
     "name": "stdout",
     "output_type": "stream",
     "text": [
      "tensor([[[1, 4],\n",
      "         [2, 5],\n",
      "         [3, 6]],\n",
      "\n",
      "        [[1, 4],\n",
      "         [2, 5],\n",
      "         [3, 6]],\n",
      "\n",
      "        [[1, 4],\n",
      "         [2, 5],\n",
      "         [3, 6]],\n",
      "\n",
      "        [[1, 4],\n",
      "         [2, 5],\n",
      "         [3, 6]]])\n",
      "torch.Size([4, 3, 2])\n"
     ]
    }
   ],
   "source": [
    "M3 = M.permute(2,1,0)\n",
    "print(M3)\n",
    "print(M3.shape)"
   ]
  },
  {
   "cell_type": "markdown",
   "metadata": {},
   "source": [
    "### 3. view() （不能用来转置）\n",
    "view可以更改tensor形状，但是会改变顺序，所以不能用来转置。  \n",
    "注意：view不能处理非连续的tensor，例如之前的M3"
   ]
  },
  {
   "cell_type": "code",
   "execution_count": 25,
   "metadata": {},
   "outputs": [
    {
     "ename": "RuntimeError",
     "evalue": "view size is not compatible with input tensor's size and stride (at least one dimension spans across two contiguous subspaces). Use .reshape(...) instead.",
     "output_type": "error",
     "traceback": [
      "\u001b[0;31m---------------------------------------------------------------------------\u001b[0m",
      "\u001b[0;31mRuntimeError\u001b[0m                              Traceback (most recent call last)",
      "\u001b[0;32m<ipython-input-25-308e39fa8306>\u001b[0m in \u001b[0;36m<module>\u001b[0;34m\u001b[0m\n\u001b[0;32m----> 1\u001b[0;31m \u001b[0mM4\u001b[0m \u001b[0;34m=\u001b[0m \u001b[0mM3\u001b[0m\u001b[0;34m.\u001b[0m\u001b[0mview\u001b[0m\u001b[0;34m(\u001b[0m\u001b[0;36m3\u001b[0m\u001b[0;34m,\u001b[0m\u001b[0;36m4\u001b[0m\u001b[0;34m,\u001b[0m\u001b[0;36m2\u001b[0m\u001b[0;34m)\u001b[0m\u001b[0;34m\u001b[0m\u001b[0;34m\u001b[0m\u001b[0m\n\u001b[0m\u001b[1;32m      2\u001b[0m \u001b[0mprint\u001b[0m\u001b[0;34m(\u001b[0m\u001b[0mM4\u001b[0m\u001b[0;34m)\u001b[0m\u001b[0;34m\u001b[0m\u001b[0;34m\u001b[0m\u001b[0m\n\u001b[1;32m      3\u001b[0m \u001b[0mprint\u001b[0m\u001b[0;34m(\u001b[0m\u001b[0mM4\u001b[0m\u001b[0;34m.\u001b[0m\u001b[0mshape\u001b[0m\u001b[0;34m)\u001b[0m\u001b[0;34m\u001b[0m\u001b[0;34m\u001b[0m\u001b[0m\n",
      "\u001b[0;31mRuntimeError\u001b[0m: view size is not compatible with input tensor's size and stride (at least one dimension spans across two contiguous subspaces). Use .reshape(...) instead."
     ]
    }
   ],
   "source": [
    "# 这段代码会报错\n",
    "M4 = M3.view(3,4,2)\n",
    "print(M4)\n",
    "print(M4.shape)"
   ]
  },
  {
   "cell_type": "code",
   "execution_count": 28,
   "metadata": {},
   "outputs": [
    {
     "name": "stdout",
     "output_type": "stream",
     "text": [
      "False\n",
      "tensor([[[1, 4],\n",
      "         [2, 5],\n",
      "         [3, 6],\n",
      "         [1, 4]],\n",
      "\n",
      "        [[2, 5],\n",
      "         [3, 6],\n",
      "         [1, 4],\n",
      "         [2, 5]],\n",
      "\n",
      "        [[3, 6],\n",
      "         [1, 4],\n",
      "         [2, 5],\n",
      "         [3, 6]]])\n",
      "torch.Size([3, 4, 2])\n"
     ]
    }
   ],
   "source": [
    "# 因为M3不是连续的\n",
    "print(M3.is_contiguous())\n",
    "# 所以正确的用法是\n",
    "M4 = M3.contiguous().view(3,4,2)\n",
    "print(M4)\n",
    "print(M4.shape)"
   ]
  },
  {
   "cell_type": "markdown",
   "metadata": {},
   "source": [
    "### 4. reshape() （不能用来转置）\n",
    "reshape可以理解为，先contiguous再view"
   ]
  },
  {
   "cell_type": "code",
   "execution_count": 30,
   "metadata": {},
   "outputs": [
    {
     "name": "stdout",
     "output_type": "stream",
     "text": [
      "tensor([[[1, 4],\n",
      "         [2, 5],\n",
      "         [3, 6],\n",
      "         [1, 4]],\n",
      "\n",
      "        [[2, 5],\n",
      "         [3, 6],\n",
      "         [1, 4],\n",
      "         [2, 5]],\n",
      "\n",
      "        [[3, 6],\n",
      "         [1, 4],\n",
      "         [2, 5],\n",
      "         [3, 6]]])\n",
      "torch.Size([3, 4, 2])\n"
     ]
    }
   ],
   "source": [
    "M5 = M3.reshape(3,4,2) \n",
    "print(M5)\n",
    "print(M5.shape)"
   ]
  },
  {
   "cell_type": "code",
   "execution_count": null,
   "metadata": {},
   "outputs": [],
   "source": []
  }
 ],
 "metadata": {
  "kernelspec": {
   "display_name": "conda:base",
   "language": "python",
   "name": "base"
  },
  "language_info": {
   "codemirror_mode": {
    "name": "ipython",
    "version": 3
   },
   "file_extension": ".py",
   "mimetype": "text/x-python",
   "name": "python",
   "nbconvert_exporter": "python",
   "pygments_lexer": "ipython3",
   "version": "3.7.10"
  }
 },
 "nbformat": 4,
 "nbformat_minor": 4
}

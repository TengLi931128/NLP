{
 "cells": [
  {
   "cell_type": "markdown",
   "metadata": {},
   "source": [
    "# PCA降维\n",
    "这里展示一下pca降纬的方法，这里介绍sklearn调用pca实现降维，以及自己python实现pca降维。"
   ]
  },
  {
   "cell_type": "markdown",
   "metadata": {},
   "source": [
    "首先导入包"
   ]
  },
  {
   "cell_type": "code",
   "execution_count": 46,
   "metadata": {},
   "outputs": [],
   "source": [
    "import numpy as np\n",
    "import torch\n",
    "import torch.nn as nn\n",
    "import transformers\n",
    "from transformers import BertConfig, BertModel, BertTokenizer\n",
    "import matplotlib.pyplot as plt\n",
    "from sklearn.decomposition import PCA  # 加载PCA算法包"
   ]
  },
  {
   "cell_type": "markdown",
   "metadata": {},
   "source": [
    "然后我们先得到一些数据，作为我们最后降维结果的一个展示。  \n",
    "这里我们使用bert来embed一些句子，然后来降维展示。"
   ]
  },
  {
   "cell_type": "code",
   "execution_count": 3,
   "metadata": {},
   "outputs": [
    {
     "name": "stderr",
     "output_type": "stream",
     "text": [
      "Some weights of the model checkpoint at ../Bert_recall/Bert_cn were not used when initializing BertModel: ['cls.seq_relationship.bias', 'cls.predictions.decoder.weight', 'cls.predictions.transform.LayerNorm.bias', 'cls.seq_relationship.weight', 'cls.predictions.bias', 'cls.predictions.transform.dense.weight', 'cls.predictions.transform.dense.bias', 'cls.predictions.transform.LayerNorm.weight']\n",
      "- This IS expected if you are initializing BertModel from the checkpoint of a model trained on another task or with another architecture (e.g. initializing a BertForSequenceClassification model from a BertForPreTraining model).\n",
      "- This IS NOT expected if you are initializing BertModel from the checkpoint of a model that you expect to be exactly identical (initializing a BertForSequenceClassification model from a BertForSequenceClassification model).\n",
      "/opt/conda/lib/python3.7/site-packages/transformers/tokenization_utils_base.py:1706: FutureWarning: Calling BertTokenizer.from_pretrained() with the path to a single file or url is deprecated and won't be possible anymore in v5. Use a model identifier or the path to a directory instead.\n",
      "  FutureWarning,\n"
     ]
    }
   ],
   "source": [
    "# 先加载模型\n",
    "pretrained_model_path = '../Bert_recall/Bert_cn'\n",
    "tokenizer_path = '../Bert_recall/Bert_cn/vocab.txt'\n",
    "\n",
    "# 直接加载预训练的中文bert模型\n",
    "Model = BertModel.from_pretrained(pretrained_model_path)\n",
    "tokenizer = BertTokenizer.from_pretrained(tokenizer_path, do_lower_case=True)"
   ]
  },
  {
   "cell_type": "markdown",
   "metadata": {},
   "source": [
    "我们先定义一些句子，然后用bert生成句向量，在pca降维后展示。"
   ]
  },
  {
   "cell_type": "code",
   "execution_count": 44,
   "metadata": {},
   "outputs": [],
   "source": [
    "# 4行句子，分别代表逻辑上的4类句子\n",
    "words = ['找个老师辅导', '找些保安来', '招聘英国厨师', '程序员在哪里', '我们需要医生', '我要找律师',\n",
    "         '火车起火了', '汽车出了事故', '轮船撞了冰山', '摩托车翻车了', '拖拉机坏了',\n",
    "         '苹果派真甜', '我喜欢吃饺子', '冰糖雪梨真好吃', '葱花饼闻着好香', '我想吃糖醋鱼',\n",
    "         '航班取消了么', '航班还准时么', '航班会延误么']\n",
    "\n",
    "# embedding\n",
    "words_source = tokenizer(words,\n",
    "                        max_length=10,\n",
    "                        truncation=True,\n",
    "                        padding='max_length',\n",
    "                        return_tensors='pt')\n",
    "input_ids = words_source['input_ids']               \n",
    "attention_mask = words_source['attention_mask']    \n",
    "token_type_ids = words_source['token_type_ids'] \n",
    "\n",
    "# 输出，这就是我们要降维的数据了，即几个768维的向量。\n",
    "Out = Model(input_ids, attention_mask, token_type_ids, output_hidden_states=True)\n",
    "cls_out = Out['last_hidden_state'][:,0]\n",
    "cls_out = cls_out.detach().numpy()\n",
    "# print(cls_out)"
   ]
  },
  {
   "cell_type": "markdown",
   "metadata": {},
   "source": [
    "## 1. sklearn中PCA的实现\n",
    "PCA降维，plt画图。"
   ]
  },
  {
   "cell_type": "code",
   "execution_count": 87,
   "metadata": {},
   "outputs": [
    {
     "data": {
      "image/png": "[encoded data removed]",
      "text/plain": [
       "<Figure size 432x288 with 1 Axes>"
      ]
     },
     "metadata": {
      "needs_background": "light"
     },
     "output_type": "display_data"
    }
   ],
   "source": [
    "def showplot(data):\n",
    "    # 画图函数\n",
    "    x, y = [], []\n",
    "    a, b = [], []\n",
    "    c, d = [], []\n",
    "    e, f = [], []\n",
    "    for i in range(len(data)):\n",
    "        if i < 6:\n",
    "            x.append(data[i][0])\n",
    "            y.append(data[i][1])\n",
    "        elif i < 11:\n",
    "            a.append(data[i][0])\n",
    "            b.append(data[i][1])\n",
    "        elif i < 16:\n",
    "            c.append(data[i][0])\n",
    "            d.append(data[i][1])\n",
    "        else:\n",
    "            e.append(data[i][0])\n",
    "            f.append(data[i][1])\n",
    "    plt.scatter(x, y, c='r', marker='x')\n",
    "    plt.scatter(a, b, c='b', marker='d')\n",
    "    plt.scatter(c, d, c='g', marker='.')\n",
    "    plt.scatter(e, f, c='y', marker='1')\n",
    "    plt.show()\n",
    "\n",
    "pac = PCA(n_components=2)\n",
    "reduced_vecs = pac.fit_transform(cls_out)\n",
    "showplot(reduced_vecs)\n",
    "\n"
   ]
  },
  {
   "cell_type": "markdown",
   "metadata": {},
   "source": [
    "## 2. 自己手动实现PCA\n",
    "PCA就是主成分分析，也就是找到主要特征向量，然后我们把向量投影在特征向量上，这样可以尽可能到减少降维造成的信息损失。"
   ]
  },
  {
   "cell_type": "code",
   "execution_count": 91,
   "metadata": {},
   "outputs": [],
   "source": [
    "def mypca(data, dim):\n",
    "    # 1. 数据标准化\n",
    "    mean = np.mean(data, axis=0)  # 计算均值\n",
    "    data = data - mean  # 去除均值\n",
    "    # 2. 计算协方差矩阵\n",
    "    mat = np.cov(data, rowvar=False)\n",
    "    # 3. 计算特征值和特征向量\n",
    "    eigVals, eigVets = np.linalg.eig(np.mat(mat))  # 计算矩阵的特征值和特征向量\n",
    "    eigValInd = np.argsort(eigVals)  # 将特征值从小到大排序，得到索引\n",
    "    eigValInd = eigValInd[::-1]  #特征值从大到小到索引\n",
    "    eigValInd = eigValInd[:dim]  # 保留最大的前K个特征值的索引\n",
    "    redEigVects = eigVets[:, eigValInd]  # 对应的特征向量\n",
    "    # 4. 投影\n",
    "    data = data * redEigVects\n",
    "    data = data.getA()  # matrix转array\n",
    "    return data"
   ]
  },
  {
   "cell_type": "code",
   "execution_count": 92,
   "metadata": {},
   "outputs": [
    {
     "data": {
      "image/png": "[encoded data removed]",
      "text/plain": [
       "<Figure size 432x288 with 1 Axes>"
      ]
     },
     "metadata": {
      "needs_background": "light"
     },
     "output_type": "display_data"
    }
   ],
   "source": [
    "reduced_vecs = mypca(cls_out,2)\n",
    "showplot(reduced_vecs)"
   ]
  },
  {
   "cell_type": "code",
   "execution_count": null,
   "metadata": {},
   "outputs": [],
   "source": []
  }
 ],
 "metadata": {
  "kernelspec": {
   "display_name": "conda:base",
   "language": "python",
   "name": "base"
  },
  "language_info": {
   "codemirror_mode": {
    "name": "ipython",
    "version": 3
   },
   "file_extension": ".py",
   "mimetype": "text/x-python",
   "name": "python",
   "nbconvert_exporter": "python",
   "pygments_lexer": "ipython3",
   "version": "3.7.10"
  }
 },
 "nbformat": 4,
 "nbformat_minor": 4
}

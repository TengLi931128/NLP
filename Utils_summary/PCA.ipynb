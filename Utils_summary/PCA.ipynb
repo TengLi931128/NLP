{
 "cells": [
  {
   "cell_type": "markdown",
   "metadata": {},
   "source": [
    "# PCA降维\n",
    "这里展示一下pca降纬的方法，这里只介绍sklearn调用pca实现降维，不讨论pca的流程和细节。"
   ]
  },
  {
   "cell_type": "markdown",
   "metadata": {},
   "source": [
    "首先导入包"
   ]
  },
  {
   "cell_type": "code",
   "execution_count": 2,
   "metadata": {},
   "outputs": [],
   "source": [
    "import torch\n",
    "import torch.nn as nn\n",
    "import transformers\n",
    "from transformers import BertConfig, BertModel, BertTokenizer\n",
    "import matplotlib.pyplot as plt\n",
    "from sklearn.decomposition import PCA  # 加载PCA算法包"
   ]
  },
  {
   "cell_type": "markdown",
   "metadata": {},
   "source": [
    "然后我们先得到一些数据，作为我们最后降维结果的一个展示。  \n",
    "这里我们使用bert来embed一些句子，然后来降维展示。"
   ]
  },
  {
   "cell_type": "code",
   "execution_count": 3,
   "metadata": {},
   "outputs": [
    {
     "name": "stderr",
     "output_type": "stream",
     "text": [
      "Some weights of the model checkpoint at ../Bert_recall/Bert_cn were not used when initializing BertModel: ['cls.seq_relationship.bias', 'cls.predictions.decoder.weight', 'cls.predictions.transform.LayerNorm.bias', 'cls.seq_relationship.weight', 'cls.predictions.bias', 'cls.predictions.transform.dense.weight', 'cls.predictions.transform.dense.bias', 'cls.predictions.transform.LayerNorm.weight']\n",
      "- This IS expected if you are initializing BertModel from the checkpoint of a model trained on another task or with another architecture (e.g. initializing a BertForSequenceClassification model from a BertForPreTraining model).\n",
      "- This IS NOT expected if you are initializing BertModel from the checkpoint of a model that you expect to be exactly identical (initializing a BertForSequenceClassification model from a BertForSequenceClassification model).\n",
      "/opt/conda/lib/python3.7/site-packages/transformers/tokenization_utils_base.py:1706: FutureWarning: Calling BertTokenizer.from_pretrained() with the path to a single file or url is deprecated and won't be possible anymore in v5. Use a model identifier or the path to a directory instead.\n",
      "  FutureWarning,\n"
     ]
    }
   ],
   "source": [
    "# 先加载模型\n",
    "pretrained_model_path = '../Bert_recall/Bert_cn'\n",
    "tokenizer_path = '../Bert_recall/Bert_cn/vocab.txt'\n",
    "\n",
    "# 直接加载预训练的中文bert模型\n",
    "Model = BertModel.from_pretrained(pretrained_model_path)\n",
    "tokenizer = BertTokenizer.from_pretrained(tokenizer_path, do_lower_case=True)"
   ]
  },
  {
   "cell_type": "markdown",
   "metadata": {},
   "source": [
    "我们先定义一些句子，然后用bert生成句向量，在pca降维后展示。"
   ]
  },
  {
   "cell_type": "code",
   "execution_count": 12,
   "metadata": {},
   "outputs": [],
   "source": [
    "# 3行句子，分别代表逻辑上的3类句子\n",
    "words = ['找个老师辅导', '找些保安来', '招聘厨师', '程序员在哪里', '我们需要医生', '我要找律师',\n",
    "         '飞机起飞了', '火车出发了', '汽车出了事故', '轮船撞了冰山', '摩托车翻车了', '拖拉机坏了',\n",
    "         '苹果真甜', '我喜欢香蕉', '梨真好吃', '芒果闻着好香', '我想吃菠萝']\n",
    "\n",
    "# embedding\n",
    "words_source = tokenizer(words,\n",
    "                        max_length=10,\n",
    "                        truncation=True,\n",
    "                        padding='max_length',\n",
    "                        return_tensors='pt')\n",
    "input_ids = words_source['input_ids']               \n",
    "attention_mask = words_source['attention_mask']    \n",
    "token_type_ids = words_source['token_type_ids'] \n",
    "\n",
    "# 输出，这就是我们要降维的数据了，即几个768维的向量。\n",
    "Out = Model(input_ids, attention_mask, token_type_ids, output_hidden_states=True)\n",
    "cls_out = Out['last_hidden_state'][:,0]\n",
    "cls_out = cls_out.detach().numpy()\n",
    "# print(cls_out)"
   ]
  },
  {
   "cell_type": "markdown",
   "metadata": {},
   "source": [
    "PCA降维，plt画图。"
   ]
  },
  {
   "cell_type": "code",
   "execution_count": 16,
   "metadata": {},
   "outputs": [
    {
     "data": {
      "image/png": "[encoded data removed]",
      "text/plain": [
       "<Figure size 432x288 with 1 Axes>"
      ]
     },
     "metadata": {
      "needs_background": "light"
     },
     "output_type": "display_data"
    }
   ],
   "source": [
    "pac = PCA(n_components=2)\n",
    "reduced_vecs = pac.fit_transform(cls_out)\n",
    "x, y = [], []\n",
    "a, b = [], []\n",
    "c, d = [], []\n",
    "for i in range(len(reduced_vecs)):\n",
    "    if i < 6:\n",
    "        x.append(reduced_vecs[i][0])\n",
    "        y.append(reduced_vecs[i][1])\n",
    "    elif i < 12:\n",
    "        a.append(reduced_vecs[i][0])\n",
    "        b.append(reduced_vecs[i][1])\n",
    "    else:\n",
    "        c.append(reduced_vecs[i][0])\n",
    "        d.append(reduced_vecs[i][1])\n",
    "plt.scatter(x, y, c='r', marker='x')\n",
    "plt.scatter(a, b, c='b', marker='d')\n",
    "plt.scatter(c, d, c='g', marker='.')\n",
    "plt.show()"
   ]
  },
  {
   "cell_type": "code",
   "execution_count": null,
   "metadata": {},
   "outputs": [],
   "source": []
  }
 ],
 "metadata": {
  "kernelspec": {
   "display_name": "conda:base",
   "language": "python",
   "name": "base"
  },
  "language_info": {
   "codemirror_mode": {
    "name": "ipython",
    "version": 3
   },
   "file_extension": ".py",
   "mimetype": "text/x-python",
   "name": "python",
   "nbconvert_exporter": "python",
   "pygments_lexer": "ipython3",
   "version": "3.7.10"
  }
 },
 "nbformat": 4,
 "nbformat_minor": 4
}
